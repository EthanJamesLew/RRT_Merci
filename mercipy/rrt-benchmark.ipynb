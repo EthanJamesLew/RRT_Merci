{
 "cells": [
  {
   "cell_type": "code",
   "execution_count": null,
   "id": "2928fb08",
   "metadata": {},
   "outputs": [],
   "source": [
    "import mercipy as mp\n",
    "import numpy as np\n",
    "import time"
   ]
  },
  {
   "cell_type": "code",
   "execution_count": null,
   "id": "3a106575",
   "metadata": {},
   "outputs": [],
   "source": [
    "class MyCircleBounds:\n",
    "    def __init__(self, x, y, r):\n",
    "        self.x = x\n",
    "        self.y = y\n",
    "        self.r = r\n",
    "        \n",
    "    def is_collision(self, pts):\n",
    "        return [\n",
    "            ((pt[0]-self.x)** + (pt[0]-self.y)**2) < self.r**2 for pt in pts\n",
    "        ]"
   ]
  },
  {
   "cell_type": "code",
   "execution_count": null,
   "id": "499dc380",
   "metadata": {},
   "outputs": [],
   "source": [
    "c = mp.CircleBounds(-.3, .2, 1.2)\n",
    "my_c = MyCircleBounds(-.3, .2, 1.2)"
   ]
  },
  {
   "cell_type": "code",
   "execution_count": null,
   "id": "b84705f3",
   "metadata": {},
   "outputs": [],
   "source": [
    "pts = np.random.random(size=(1000000, 2)).tolist()\n",
    "pts = [tuple(p) for p in pts]"
   ]
  },
  {
   "cell_type": "code",
   "execution_count": null,
   "id": "3d2392e6",
   "metadata": {},
   "outputs": [],
   "source": []
  },
  {
   "cell_type": "code",
   "execution_count": null,
   "id": "17e21358",
   "metadata": {},
   "outputs": [],
   "source": [
    "s = time.time()\n",
    "dc = c.is_collision(pts)\n",
    "e = time.time()\n",
    "print(f\"{e - s}\")\n",
    "\n",
    "s = time.time()\n",
    "my_dc = my_c.is_collision(pts)\n",
    "e = time.time()\n",
    "print(f\"{e - s}\")"
   ]
  },
  {
   "cell_type": "code",
   "execution_count": null,
   "id": "5903739f",
   "metadata": {},
   "outputs": [],
   "source": [
    "import matplotlib.pyplot as plt"
   ]
  },
  {
   "cell_type": "code",
   "execution_count": null,
   "id": "ac540a98",
   "metadata": {},
   "outputs": [],
   "source": [
    "\n",
    "plt.figure(figsize=(10, 10))\n",
    "plt.scatter(*np.array(pts)[np.array(dc)].T, s=1, alpha=0.5)\n",
    "plt.scatter(*np.array(pts)[np.logical_not(np.array(dc))].T, s=1, alpha=0.5)"
   ]
  },
  {
   "cell_type": "code",
   "execution_count": null,
   "id": "c8e6e75e",
   "metadata": {},
   "outputs": [],
   "source": [
    "c = mp.ConvexPolygonBounds([(0.2, 0.1), (0.6, 0.6), (0.8, 0.2), (0.0, 0.8)])\n",
    "s = time.time()\n",
    "dc = c.is_collision(pts)\n",
    "e = time.time()\n",
    "print(f\"{e - s}\")"
   ]
  },
  {
   "cell_type": "code",
   "execution_count": null,
   "id": "5bd73846",
   "metadata": {},
   "outputs": [],
   "source": [
    "plt.figure(figsize=(10, 10))\n",
    "plt.scatter(*np.array(pts)[np.array(dc)].T, s=1, alpha=0.5)\n",
    "plt.scatter(*np.array(pts)[np.logical_not(np.array(dc))].T, s=1, alpha=0.5)"
   ]
  },
  {
   "cell_type": "code",
   "execution_count": null,
   "id": "78dfd8d2",
   "metadata": {},
   "outputs": [],
   "source": [
    "obstacles = [(4.0, 2.0, 2.0), (5.0, 4.0, 2.0), (7.0, 4.0, 2.0), (9.0, 4.0, 2.0), (0.0, 3.0, 1.2), (1.0, 5.5, 1.5)]\n",
    "\n",
    "res = mp.plan_rrt(\n",
    "    (0.0, 0.0),\n",
    "    (8.0, 0.0),\n",
    "    obstacles,\n",
    "    0.5,\n",
    "    0.5,\n",
    "    95,\n",
    "    1000000,\n",
    "    ((0.0, 0.0), (12.0, 10.0))\n",
    ")"
   ]
  },
  {
   "cell_type": "code",
   "execution_count": null,
   "id": "ca73704b",
   "metadata": {},
   "outputs": [],
   "source": [
    "plt.plot(*np.array(res).T)\n",
    "\n",
    "for obs in obstacles:\n",
    "    circle1 = plt.Circle(obs[:-1], obs[-1], color='r')\n",
    "    plt.gca().add_patch(circle1)"
   ]
  },
  {
   "cell_type": "code",
   "execution_count": null,
   "id": "6af1e89f",
   "metadata": {},
   "outputs": [],
   "source": []
  }
 ],
 "metadata": {
  "kernelspec": {
   "display_name": "Python 3 (ipykernel)",
   "language": "python",
   "name": "python3"
  },
  "language_info": {
   "codemirror_mode": {
    "name": "ipython",
    "version": 3
   },
   "file_extension": ".py",
   "mimetype": "text/x-python",
   "name": "python",
   "nbconvert_exporter": "python",
   "pygments_lexer": "ipython3",
   "version": "3.9.7"
  }
 },
 "nbformat": 4,
 "nbformat_minor": 5
}
