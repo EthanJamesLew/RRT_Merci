{
 "cells": [
  {
   "cell_type": "code",
   "execution_count": null,
   "id": "71f93897",
   "metadata": {},
   "outputs": [],
   "source": [
    "with open(\"./node_tree.txt\", \"r\") as fp:\n",
    "    tree_txt = fp.read()"
   ]
  },
  {
   "cell_type": "code",
   "execution_count": null,
   "id": "22e7b253",
   "metadata": {},
   "outputs": [],
   "source": [
    "#nodes = [elem.strip()[1:-3] for elem in tree_txt[1:-1].strip().split(\"RRTNode \") if elem.endswith(\", \")]\n",
    "#nodes\n",
    "nodes = [elem[1:-3].strip().replace(\" }\", \"\") for elem in tree_txt[1:-1].strip().split(\"RRTStarNode { node: RRTNode \") if elem.endswith(\", \")]"
   ]
  },
  {
   "cell_type": "code",
   "execution_count": null,
   "id": "d0851d5b",
   "metadata": {},
   "outputs": [],
   "source": [
    "import numpy as np\n",
    "\n",
    "class Node:\n",
    "    def __init__(self, point, path, cost, pid, parent=None):\n",
    "        self.point = point\n",
    "        self.path = path\n",
    "        self.cost = cost\n",
    "        self.pid = pid\n",
    "        self.parent= parent\n",
    "        \n",
    "node_dict = {}\n",
    "\n",
    "\n",
    "for node in nodes:\n",
    "    vals = node.split(\":\")\n",
    "    vals = [[vi.strip() for vi in v.split(\", \")] for v in vals]\n",
    "    nid = int(vals[1][0])\n",
    "    pid = int(vals[2][0][5:-1]) if \"None\" not in vals[2][0] else None\n",
    "    point = (eval(\",\".join(vals[3][:-1])))\n",
    "    path = np.array(eval(\",\".join(vals[4][:-1])))\n",
    "    cost = eval(vals[5][0])\n",
    "    \n",
    "    node = Node(point, path, cost, pid)\n",
    "    node_dict[nid] = node\n",
    "    #print(vals)"
   ]
  },
  {
   "cell_type": "code",
   "execution_count": null,
   "id": "8c420d56",
   "metadata": {},
   "outputs": [],
   "source": [
    "for node in node_dict.values():\n",
    "    if node.pid is not None:\n",
    "        node.parent = node_dict[node.pid]"
   ]
  },
  {
   "cell_type": "code",
   "execution_count": null,
   "id": "0b2b7ed6",
   "metadata": {},
   "outputs": [],
   "source": [
    "import matplotlib.pyplot as plt\n",
    "import matplotlib.patches as patches\n",
    "\n",
    "plt.figure(figsize=(12,10))\n",
    "\n",
    "pts = np.array([node.point for node in node_dict.values()])\n",
    "plt.scatter(*pts.T, color='k', s=10, alpha=0.1)\n",
    "\n",
    "for idx, node in enumerate(node_dict.values()):\n",
    "    plt.plot(*node.path.T, color='k', alpha=0.5)\n",
    "    \n",
    "rect = patches.Rectangle((0, 3), 2, 2, linewidth=1, edgecolor='r', facecolor='none')\n",
    "plt.gca().add_patch(rect)\n",
    "\n",
    "rect = patches.Rectangle((4, 0), 2, 9, linewidth=1, edgecolor='r', facecolor='none')\n",
    "plt.gca().add_patch(rect)\n",
    "\n",
    "rect = patches.Rectangle((7, 5), 5, 2, linewidth=1, edgecolor='r', facecolor='none')\n",
    "plt.gca().add_patch(rect)\n",
    "\n",
    "rect = patches.Rectangle((4, 0), 2, 9, linewidth=1, edgecolor='r', facecolor='none')\n",
    "plt.gca().add_patch(rect)\n",
    "\n",
    "rect = patches.Rectangle((6, 2), 5, 1, linewidth=1, edgecolor='r', facecolor='none')\n",
    "plt.gca().add_patch(rect)\n",
    "\n",
    "plt.title(\"RRT* Star Tree\")\n",
    "plt.xlim(0, 12)\n",
    "plt.ylim(0, 10)\n",
    "plt.xlabel(\"x\")\n",
    "plt.ylabel(\"y\")\n",
    "plt.savefig(\"RRTStar_Tree.pdf\")"
   ]
  },
  {
   "cell_type": "code",
   "execution_count": null,
   "id": "ed719bd2",
   "metadata": {},
   "outputs": [],
   "source": [
    "len(pts)"
   ]
  },
  {
   "cell_type": "code",
   "execution_count": null,
   "id": "e6cea2b7",
   "metadata": {},
   "outputs": [],
   "source": []
  }
 ],
 "metadata": {
  "kernelspec": {
   "display_name": "Python 3 (ipykernel)",
   "language": "python",
   "name": "python3"
  },
  "language_info": {
   "codemirror_mode": {
    "name": "ipython",
    "version": 3
   },
   "file_extension": ".py",
   "mimetype": "text/x-python",
   "name": "python",
   "nbconvert_exporter": "python",
   "pygments_lexer": "ipython3",
   "version": "3.9.7"
  }
 },
 "nbformat": 4,
 "nbformat_minor": 5
}
