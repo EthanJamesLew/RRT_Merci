{
 "cells": [
  {
   "cell_type": "code",
   "execution_count": null,
   "id": "71f93897",
   "metadata": {},
   "outputs": [],
   "source": [
    "import json\n",
    "import numpy as np\n",
    "\n",
    "with open(\"../rrt_result.json\", \"r\") as fp:\n",
    "    ret = json.load(fp)"
   ]
  },
  {
   "cell_type": "code",
   "execution_count": null,
   "id": "6a3d06bf",
   "metadata": {},
   "outputs": [],
   "source": [
    "nodes = ret['tree']\n",
    "path = np.vstack(([8.0, 0.0], np.array(ret['path'])))\n",
    "smooth_path = np.vstack(([8.0, 0.0], np.array(ret['smooth_path'])))"
   ]
  },
  {
   "cell_type": "code",
   "execution_count": null,
   "id": "d0851d5b",
   "metadata": {},
   "outputs": [],
   "source": [
    "\n",
    "\n",
    "class Node:\n",
    "    def __init__(self, point, path, pid, parent=None):\n",
    "        self.point = point\n",
    "        self.path = path\n",
    "        #self.cost = cost\n",
    "        self.pid = pid\n",
    "        self.parent= parent\n",
    "        \n",
    "node_dict = {}\n",
    "\n",
    "\n",
    "for node in nodes:\n",
    "    noder = node\n",
    "    n = Node(noder['point'], np.array(noder['path']), noder['parent_id'])\n",
    "    node_dict[noder['id']] = n"
   ]
  },
  {
   "cell_type": "code",
   "execution_count": null,
   "id": "8c420d56",
   "metadata": {},
   "outputs": [],
   "source": [
    "for node in node_dict.values():\n",
    "    if node.pid is not None:\n",
    "        node.parent = node_dict[node.pid]"
   ]
  },
  {
   "cell_type": "code",
   "execution_count": null,
   "id": "0b2b7ed6",
   "metadata": {},
   "outputs": [],
   "source": [
    "import matplotlib.pyplot as plt\n",
    "%matplotlib inline\n",
    "%config InlineBackend.figure_format='retina'\n",
    "import matplotlib.patches as patches\n",
    "\n",
    "plt.figure(figsize=(12,10))\n",
    "\n",
    "pts = np.array([node.point for node in node_dict.values()])\n",
    "plt.scatter(*pts.T, color='C0', s=10, alpha=0.1)\n",
    "\n",
    "for idx, node in enumerate(node_dict.values()):\n",
    "    plt.plot(*node.path.T, color='C0', alpha=0.2)\n",
    "    \n",
    "rect = patches.Rectangle((0, 3), 2, 2, linewidth=1, edgecolor='r', facecolor='none')\n",
    "plt.gca().add_patch(rect)\n",
    "\n",
    "rect = patches.Rectangle((4, 0), 2, 9, linewidth=1, edgecolor='r', facecolor='none')\n",
    "plt.gca().add_patch(rect)\n",
    "\n",
    "rect = patches.Rectangle((7, 5), 5, 2, linewidth=1, edgecolor='r', facecolor='none')\n",
    "plt.gca().add_patch(rect)\n",
    "\n",
    "rect = patches.Rectangle((4, 0), 2, 9, linewidth=1, edgecolor='r', facecolor='none')\n",
    "plt.gca().add_patch(rect)\n",
    "\n",
    "rect = patches.Rectangle((6, 2), 5, 1, linewidth=1, edgecolor='r', facecolor='none')\n",
    "plt.gca().add_patch(rect)\n",
    "\n",
    "plt.plot(*path.T, linewidth=3, label=\"RRT Path\")\n",
    "plt.plot(*smooth_path.T, linewidth=3, label='Smoothed RRT Path')\n",
    "\n",
    "plt.title(\"RRT Tree\")\n",
    "plt.xlim(0, 12)\n",
    "plt.ylim(0, 10)\n",
    "plt.xlabel(\"x\")\n",
    "plt.ylabel(\"y\")\n",
    "plt.legend(loc=\"upper left\")\n",
    "plt.savefig(\"RRT_Tree.svg\")"
   ]
  },
  {
   "cell_type": "code",
   "execution_count": null,
   "id": "ed719bd2",
   "metadata": {},
   "outputs": [],
   "source": [
    "plt.plot(*path.T)"
   ]
  },
  {
   "cell_type": "code",
   "execution_count": null,
   "id": "e6cea2b7",
   "metadata": {},
   "outputs": [],
   "source": []
  }
 ],
 "metadata": {
  "kernelspec": {
   "display_name": "Python 3 (ipykernel)",
   "language": "python",
   "name": "python3"
  },
  "language_info": {
   "codemirror_mode": {
    "name": "ipython",
    "version": 3
   },
   "file_extension": ".py",
   "mimetype": "text/x-python",
   "name": "python",
   "nbconvert_exporter": "python",
   "pygments_lexer": "ipython3",
   "version": "3.9.9"
  }
 },
 "nbformat": 4,
 "nbformat_minor": 5
}
